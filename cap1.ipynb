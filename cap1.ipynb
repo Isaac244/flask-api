{
 "cells": [
  {
   "cell_type": "markdown",
   "id": "68eb972e-e7dd-4937-8490-9277e8dd932c",
   "metadata": {},
   "source": [
    "# titulo 1\n",
    "## titulo 2\n",
    "### titulo 3"
   ]
  },
  {
   "cell_type": "markdown",
   "id": "b2c5de49-f498-47bf-8498-1514c832f410",
   "metadata": {},
   "source": [
    "<h1>titulo 1</h1>\n",
    "<h2>titulo 2</h2>\n",
    "<h3>titulo 3</h3>"
   ]
  },
  {
   "cell_type": "markdown",
   "id": "963a6207-88b6-4162-ada6-4c75d284f1b4",
   "metadata": {},
   "source": [
    "* opcion 1\n",
    "* opcion 2\n",
    "* opcion 3"
   ]
  },
  {
   "cell_type": "markdown",
   "id": "5fa98681-8adb-4423-8595-c522db6c8247",
   "metadata": {},
   "source": [
    "<ul>\n",
    "    <li>opcion 1</li>\n",
    "    <li>opcion 2</li>\n",
    "    <li>opcion 3</li>\n",
    "</ul>"
   ]
  },
  {
   "cell_type": "markdown",
   "id": "2abcc4d6-a41a-4c5b-a626-864cf0a48f7b",
   "metadata": {},
   "source": [
    "*linea*\n",
    "**linea**\n",
    "***linea***"
   ]
  },
  {
   "cell_type": "markdown",
   "id": "2fcbf64c-50e2-42bf-863c-c332d210bafb",
   "metadata": {},
   "source": [
    "mi comando para instalar librerias `pip install pandas`"
   ]
  },
  {
   "cell_type": "markdown",
   "id": "1426ef31-5061-46c0-8d0d-f150a2c7b9a0",
   "metadata": {},
   "source": [
    "* mi json\n",
    "```json\n",
    "{\n",
    "  \"firstName\": \"John\",\n",
    "  \"lastName\": \"Smith\",\n",
    "  \"age\": 25\n",
    "}\n",
    "```\n",
    "* mi codigo de python\n",
    "```python\n",
    "def main():\n",
    "    return \"hola\"\n",
    "```"
   ]
  },
  {
   "cell_type": "markdown",
   "id": "b4190dcb-edcc-40aa-9046-ae5989ee4872",
   "metadata": {},
   "source": [
    "- [x] Write the press release\n",
    "- [ ] Update the website\n",
    "- [ ] Contact the media"
   ]
  },
  {
   "cell_type": "markdown",
   "id": "c67c54bd-f321-4d2d-b690-b690128fccac",
   "metadata": {},
   "source": [
    "# 1.Operaciones con numeros y flotantes"
   ]
  },
  {
   "cell_type": "code",
   "execution_count": 1,
   "id": "6a088e21-ebe2-4ca1-98d5-8fb9751e0490",
   "metadata": {},
   "outputs": [
    {
     "data": {
      "text/plain": [
       "2"
      ]
     },
     "execution_count": 1,
     "metadata": {},
     "output_type": "execute_result"
    }
   ],
   "source": [
    "1+1"
   ]
  },
  {
   "cell_type": "code",
   "execution_count": 2,
   "id": "9d23ca06-bf9f-4bb3-8daf-b40db9eb46cc",
   "metadata": {},
   "outputs": [
    {
     "data": {
      "text/plain": [
       "7"
      ]
     },
     "execution_count": 2,
     "metadata": {},
     "output_type": "execute_result"
    }
   ],
   "source": [
    "8-1"
   ]
  },
  {
   "cell_type": "code",
   "execution_count": 3,
   "id": "783dbfa3-6b90-4e15-9020-f1999bfbe670",
   "metadata": {},
   "outputs": [
    {
     "data": {
      "text/plain": [
       "20"
      ]
     },
     "execution_count": 3,
     "metadata": {},
     "output_type": "execute_result"
    }
   ],
   "source": [
    "10*2"
   ]
  },
  {
   "cell_type": "code",
   "execution_count": 4,
   "id": "7ae46dde-6309-4091-b7c3-0bc546c39c32",
   "metadata": {},
   "outputs": [
    {
     "data": {
      "text/plain": [
       "7.0"
      ]
     },
     "execution_count": 4,
     "metadata": {},
     "output_type": "execute_result"
    }
   ],
   "source": [
    "35/5"
   ]
  },
  {
   "cell_type": "code",
   "execution_count": 5,
   "id": "729c128e-c6d3-4b95-97b7-88223e38459d",
   "metadata": {},
   "outputs": [
    {
     "data": {
      "text/plain": [
       "2.75"
      ]
     },
     "execution_count": 5,
     "metadata": {},
     "output_type": "execute_result"
    }
   ],
   "source": [
    "11/4"
   ]
  },
  {
   "cell_type": "code",
   "execution_count": 6,
   "id": "58aaf304-a725-4e39-b7d3-2a42d78e7ee9",
   "metadata": {},
   "outputs": [
    {
     "data": {
      "text/plain": [
       "2"
      ]
     },
     "execution_count": 6,
     "metadata": {},
     "output_type": "execute_result"
    }
   ],
   "source": [
    "11//4"
   ]
  },
  {
   "cell_type": "code",
   "execution_count": 7,
   "id": "1320185b-8794-4938-9aa4-649451bae45d",
   "metadata": {},
   "outputs": [
    {
     "data": {
      "text/plain": [
       "-1.6666666666666667"
      ]
     },
     "execution_count": 7,
     "metadata": {},
     "output_type": "execute_result"
    }
   ],
   "source": [
    "-5/3"
   ]
  },
  {
   "cell_type": "code",
   "execution_count": 8,
   "id": "e2a523fb-dcb1-4504-96d8-13ede374d914",
   "metadata": {},
   "outputs": [
    {
     "data": {
      "text/plain": [
       "-2"
      ]
     },
     "execution_count": 8,
     "metadata": {},
     "output_type": "execute_result"
    }
   ],
   "source": [
    "-5//3"
   ]
  },
  {
   "cell_type": "code",
   "execution_count": 9,
   "id": "9b73b427-2884-4ef0-8fbf-0d08bcb8b1cc",
   "metadata": {},
   "outputs": [
    {
     "data": {
      "text/plain": [
       "2.3333333333333335"
      ]
     },
     "execution_count": 9,
     "metadata": {},
     "output_type": "execute_result"
    }
   ],
   "source": [
    "7/3"
   ]
  },
  {
   "cell_type": "code",
   "execution_count": 11,
   "id": "6581ed7d-9447-4b1c-a359-251e415be7d4",
   "metadata": {},
   "outputs": [
    {
     "data": {
      "text/plain": [
       "2"
      ]
     },
     "execution_count": 11,
     "metadata": {},
     "output_type": "execute_result"
    }
   ],
   "source": [
    "7//3"
   ]
  },
  {
   "cell_type": "code",
   "execution_count": 10,
   "id": "a7e26bbf-f8a5-4708-a841-70599e3432ab",
   "metadata": {},
   "outputs": [
    {
     "data": {
      "text/plain": [
       "1"
      ]
     },
     "execution_count": 10,
     "metadata": {},
     "output_type": "execute_result"
    }
   ],
   "source": [
    "7%3"
   ]
  },
  {
   "cell_type": "code",
   "execution_count": 12,
   "id": "6aa06bcc-da68-4816-90e0-3b5fef6d4d03",
   "metadata": {},
   "outputs": [],
   "source": [
    "def main(x,y):\n",
    "    return x + y"
   ]
  },
  {
   "cell_type": "code",
   "execution_count": 13,
   "id": "d902f45c-81aa-4660-9540-37748adbdc87",
   "metadata": {},
   "outputs": [
    {
     "data": {
      "text/plain": [
       "16"
      ]
     },
     "execution_count": 13,
     "metadata": {},
     "output_type": "execute_result"
    }
   ],
   "source": [
    "2**4"
   ]
  },
  {
   "cell_type": "code",
   "execution_count": 14,
   "id": "090a4d44-b7df-4632-99ec-696cc912bff4",
   "metadata": {},
   "outputs": [],
   "source": [
    "# PEMDAS"
   ]
  },
  {
   "cell_type": "code",
   "execution_count": 15,
   "id": "fd277230-64f9-4cc9-9b67-f24e79cad8ec",
   "metadata": {},
   "outputs": [
    {
     "data": {
      "text/plain": [
       "7"
      ]
     },
     "execution_count": 15,
     "metadata": {},
     "output_type": "execute_result"
    }
   ],
   "source": [
    "1 + 3 * 2"
   ]
  },
  {
   "cell_type": "code",
   "execution_count": 16,
   "id": "dfbab145-0d44-426b-ac7b-253d1d195391",
   "metadata": {},
   "outputs": [
    {
     "data": {
      "text/plain": [
       "8"
      ]
     },
     "execution_count": 16,
     "metadata": {},
     "output_type": "execute_result"
    }
   ],
   "source": [
    "(1 + 3)* 2"
   ]
  },
  {
   "cell_type": "code",
   "execution_count": 17,
   "id": "74c16bd2-1bcf-481f-99ce-6859282dcba0",
   "metadata": {},
   "outputs": [
    {
     "data": {
      "text/plain": [
       "True"
      ]
     },
     "execution_count": 17,
     "metadata": {},
     "output_type": "execute_result"
    }
   ],
   "source": [
    "True"
   ]
  },
  {
   "cell_type": "code",
   "execution_count": 18,
   "id": "2dedb8be-a10a-49b7-8f9b-61a0ccff07e5",
   "metadata": {},
   "outputs": [
    {
     "data": {
      "text/plain": [
       "False"
      ]
     },
     "execution_count": 18,
     "metadata": {},
     "output_type": "execute_result"
    }
   ],
   "source": [
    "False"
   ]
  },
  {
   "cell_type": "code",
   "execution_count": 19,
   "id": "88b7f004-c9fc-4a4c-9599-75c6633eda56",
   "metadata": {},
   "outputs": [
    {
     "data": {
      "text/plain": [
       "False"
      ]
     },
     "execution_count": 19,
     "metadata": {},
     "output_type": "execute_result"
    }
   ],
   "source": [
    "True and False"
   ]
  },
  {
   "cell_type": "code",
   "execution_count": 20,
   "id": "e49466e0-3646-458a-b9d0-751d75b89079",
   "metadata": {},
   "outputs": [
    {
     "data": {
      "text/plain": [
       "True"
      ]
     },
     "execution_count": 20,
     "metadata": {},
     "output_type": "execute_result"
    }
   ],
   "source": [
    "True or False"
   ]
  },
  {
   "cell_type": "code",
   "execution_count": 21,
   "id": "9cdacf7e-bd24-4257-8f84-2691483a36ef",
   "metadata": {},
   "outputs": [
    {
     "data": {
      "text/plain": [
       "False"
      ]
     },
     "execution_count": 21,
     "metadata": {},
     "output_type": "execute_result"
    }
   ],
   "source": [
    "0 == True"
   ]
  },
  {
   "cell_type": "code",
   "execution_count": 22,
   "id": "3343194d-b336-46d6-8f03-50812a3ecaca",
   "metadata": {},
   "outputs": [
    {
     "data": {
      "text/plain": [
       "True"
      ]
     },
     "execution_count": 22,
     "metadata": {},
     "output_type": "execute_result"
    }
   ],
   "source": [
    "1 == True"
   ]
  },
  {
   "cell_type": "code",
   "execution_count": 23,
   "id": "6ff7dc84-95af-452a-8b2f-532a375e9c0e",
   "metadata": {},
   "outputs": [
    {
     "data": {
      "text/plain": [
       "False"
      ]
     },
     "execution_count": 23,
     "metadata": {},
     "output_type": "execute_result"
    }
   ],
   "source": [
    "2 == False"
   ]
  },
  {
   "cell_type": "code",
   "execution_count": 24,
   "id": "378c3c4a-be93-4153-9ac1-463b8354a1e3",
   "metadata": {},
   "outputs": [
    {
     "data": {
      "text/plain": [
       "False"
      ]
     },
     "execution_count": 24,
     "metadata": {},
     "output_type": "execute_result"
    }
   ],
   "source": [
    "2 == True"
   ]
  },
  {
   "cell_type": "code",
   "execution_count": 25,
   "id": "66bcc134-2877-4e52-b775-02a4457df71a",
   "metadata": {},
   "outputs": [
    {
     "name": "stdout",
     "output_type": "stream",
     "text": [
      "Hola\n"
     ]
    }
   ],
   "source": [
    "print(\"Hola\")"
   ]
  },
  {
   "cell_type": "code",
   "execution_count": 26,
   "id": "184f400e-2635-4fa9-8ba3-d626bc45f171",
   "metadata": {},
   "outputs": [
    {
     "data": {
      "text/plain": [
       "'Hola'"
      ]
     },
     "execution_count": 26,
     "metadata": {},
     "output_type": "execute_result"
    }
   ],
   "source": [
    "'Hola'"
   ]
  },
  {
   "cell_type": "code",
   "execution_count": 27,
   "id": "159b9153-785b-4fcb-a44a-6108f3b9486e",
   "metadata": {},
   "outputs": [
    {
     "name": "stdout",
     "output_type": "stream",
     "text": [
      "2\n",
      "8\n",
      "-5\n",
      "True\n",
      "True\n",
      "False\n",
      "True\n"
     ]
    }
   ],
   "source": [
    "print(True + True)\n",
    "print(True * 8)\n",
    "print(False - 5)\n",
    "print(0 == False)\n",
    "print(2 > True)\n",
    "print(2 == True)\n",
    "print(-5 != False)"
   ]
  },
  {
   "cell_type": "code",
   "execution_count": 28,
   "id": "c6792623-eb21-4fd7-8d40-fe291cea00bd",
   "metadata": {},
   "outputs": [
    {
     "name": "stdout",
     "output_type": "stream",
     "text": [
      "False\n",
      "True\n"
     ]
    }
   ],
   "source": [
    "print(not True)\n",
    "print(not False)"
   ]
  },
  {
   "cell_type": "code",
   "execution_count": 29,
   "id": "ec74155a-a875-4a89-be55-4b1c62eb9235",
   "metadata": {},
   "outputs": [
    {
     "name": "stdout",
     "output_type": "stream",
     "text": [
      "True\n",
      "False\n"
     ]
    }
   ],
   "source": [
    "print(1 == 1)\n",
    "print(2 == 1)"
   ]
  },
  {
   "cell_type": "code",
   "execution_count": 30,
   "id": "a9793a96-065e-48dd-84cd-559adde26b59",
   "metadata": {},
   "outputs": [
    {
     "name": "stdout",
     "output_type": "stream",
     "text": [
      "False\n",
      "True\n"
     ]
    }
   ],
   "source": [
    "print(1 != 1)\n",
    "print(2 != 1)"
   ]
  },
  {
   "cell_type": "code",
   "execution_count": 32,
   "id": "ab767985-2e3a-4cca-9e07-3d200aaee33b",
   "metadata": {},
   "outputs": [
    {
     "name": "stdout",
     "output_type": "stream",
     "text": [
      "True\n",
      "False\n",
      "True\n",
      "True\n"
     ]
    }
   ],
   "source": [
    "print(1<10)\n",
    "print(1>10)\n",
    "print(2<=2)\n",
    "print(2>=2)"
   ]
  },
  {
   "cell_type": "code",
   "execution_count": 33,
   "id": "b4c51ae2-4bfa-4da6-834f-d60094f529f5",
   "metadata": {},
   "outputs": [
    {
     "name": "stdout",
     "output_type": "stream",
     "text": [
      "True\n",
      "False\n",
      "True\n",
      "False\n"
     ]
    }
   ],
   "source": [
    "print(1<2 and 2<3)\n",
    "print(2<3 and 3<2)\n",
    "print(1<2<3)\n",
    "print(1<3<2)"
   ]
  },
  {
   "cell_type": "markdown",
   "id": "8d12ea15-de6c-4d5d-bfb1-f13ab645514f",
   "metadata": {},
   "source": [
    "# 3.Operaciones con cadenas de caracteres"
   ]
  },
  {
   "cell_type": "code",
   "execution_count": 34,
   "id": "87bbd1b8-9292-4cd0-9432-37f7bc76ce10",
   "metadata": {},
   "outputs": [
    {
     "name": "stdout",
     "output_type": "stream",
     "text": [
      "This is a String\n",
      "This is also a String\n"
     ]
    }
   ],
   "source": [
    "print(\"This is a String\")\n",
    "print(\"This is also a String\")"
   ]
  },
  {
   "cell_type": "code",
   "execution_count": 37,
   "id": "4bfaddfd-b4c1-4027-b21e-54e375eb36d3",
   "metadata": {},
   "outputs": [
    {
     "data": {
      "text/plain": [
       "'Hello world!'"
      ]
     },
     "execution_count": 37,
     "metadata": {},
     "output_type": "execute_result"
    }
   ],
   "source": [
    "\"Hello\"+\" world!\""
   ]
  },
  {
   "cell_type": "code",
   "execution_count": 38,
   "id": "8ef212d9-159b-49a2-aec9-cf859eb1fa52",
   "metadata": {},
   "outputs": [
    {
     "data": {
      "text/plain": [
       "'Hello world!'"
      ]
     },
     "execution_count": 38,
     "metadata": {},
     "output_type": "execute_result"
    }
   ],
   "source": [
    "\"Hello \"\"world!\""
   ]
  },
  {
   "cell_type": "code",
   "execution_count": 39,
   "id": "37647d06-674d-4bbe-88ff-41dfb950f47d",
   "metadata": {},
   "outputs": [
    {
     "data": {
      "text/plain": [
       "'HelloHelloHello'"
      ]
     },
     "execution_count": 39,
     "metadata": {},
     "output_type": "execute_result"
    }
   ],
   "source": [
    "\"Hello\"*3"
   ]
  },
  {
   "cell_type": "code",
   "execution_count": 40,
   "id": "1452fd4d-c924-4a8f-8a79-69ba6f2cef32",
   "metadata": {},
   "outputs": [
    {
     "data": {
      "text/plain": [
       "'e'"
      ]
     },
     "execution_count": 40,
     "metadata": {},
     "output_type": "execute_result"
    }
   ],
   "source": [
    "\"probe\"[4]"
   ]
  },
  {
   "cell_type": "code",
   "execution_count": 41,
   "id": "afc1c58b-3266-45a5-b45a-a087bc338e0a",
   "metadata": {},
   "outputs": [
    {
     "data": {
      "text/plain": [
       "5"
      ]
     },
     "execution_count": 41,
     "metadata": {},
     "output_type": "execute_result"
    }
   ],
   "source": [
    "len(\"probe\")"
   ]
  },
  {
   "cell_type": "code",
   "execution_count": 42,
   "id": "94cbdae1-b136-49d0-b6b3-4be13c49d019",
   "metadata": {},
   "outputs": [],
   "source": [
    "x = \"manzana\"\n",
    "y = \"limon\""
   ]
  },
  {
   "cell_type": "code",
   "execution_count": 43,
   "id": "cfa44a8e-bb68-4923-b525-cf59e906d3fd",
   "metadata": {},
   "outputs": [
    {
     "data": {
      "text/plain": [
       "'En nuestra canasta de compras tenemos manzana y limon'"
      ]
     },
     "execution_count": 43,
     "metadata": {},
     "output_type": "execute_result"
    }
   ],
   "source": [
    "z = \"En nuestra canasta de compras tenemos %s y %s\" % (x, y)\n",
    "z"
   ]
  },
  {
   "cell_type": "code",
   "execution_count": 44,
   "id": "a9f1ac64-8757-423a-85de-99466630c50c",
   "metadata": {},
   "outputs": [
    {
     "data": {
      "text/plain": [
       "'En nuestra canasta de compras tenemos manzana y limon'"
      ]
     },
     "execution_count": 44,
     "metadata": {},
     "output_type": "execute_result"
    }
   ],
   "source": [
    "z = \"En nuestra canasta de compras tenemos {} y {}\".format(x, y)\n",
    "z"
   ]
  },
  {
   "cell_type": "code",
   "execution_count": 45,
   "id": "1a5273b8-8c2c-4b55-90c0-fc024f1f7657",
   "metadata": {},
   "outputs": [
    {
     "data": {
      "text/plain": [
       "'En nuestra canasta de compras tenemos manzana y limon'"
      ]
     },
     "execution_count": 45,
     "metadata": {},
     "output_type": "execute_result"
    }
   ],
   "source": [
    "z = \"En nuestra canasta de compras tenemos {0} y {1}\".format(x, y)\n",
    "z"
   ]
  },
  {
   "cell_type": "code",
   "execution_count": 46,
   "id": "55473831-4118-405d-9427-cb42d136132a",
   "metadata": {},
   "outputs": [
    {
     "data": {
      "text/plain": [
       "'En nuestra canasta de compras tenemos manzana y limon'"
      ]
     },
     "execution_count": 46,
     "metadata": {},
     "output_type": "execute_result"
    }
   ],
   "source": [
    "z = \"En nuestra canasta de compras tenemos {manzana} y {limon}\".format(manzana=x, limon=y)\n",
    "z"
   ]
  },
  {
   "cell_type": "code",
   "execution_count": 47,
   "id": "efc04a17-3ca5-4cce-b53c-251679c31c2d",
   "metadata": {},
   "outputs": [
    {
     "data": {
      "text/plain": [
       "'En nuestra canasta de compras tenemos manzana y limon'"
      ]
     },
     "execution_count": 47,
     "metadata": {},
     "output_type": "execute_result"
    }
   ],
   "source": [
    "z = f\"En nuestra canasta de compras tenemos {x} y {y}\"\n",
    "z"
   ]
  },
  {
   "cell_type": "code",
   "execution_count": 48,
   "id": "bfd6e55f-f441-4c7d-9bd3-ff82e0778953",
   "metadata": {},
   "outputs": [
    {
     "name": "stdout",
     "output_type": "stream",
     "text": [
      "Jorge is 33 years old.\n"
     ]
    }
   ],
   "source": [
    "name = 'Jorge'\n",
    "age = 33\n",
    "print(f\"{name} is {age} years old.\")"
   ]
  },
  {
   "cell_type": "code",
   "execution_count": 49,
   "id": "8b52443e-2147-4334-9892-cab823761bb9",
   "metadata": {},
   "outputs": [],
   "source": [
    "cad=\"w3resource\""
   ]
  },
  {
   "cell_type": "code",
   "execution_count": 50,
   "id": "3e5c6683-a51a-4a01-acc6-e46ebd1d28ea",
   "metadata": {},
   "outputs": [
    {
     "data": {
      "text/plain": [
       "'w3'"
      ]
     },
     "execution_count": 50,
     "metadata": {},
     "output_type": "execute_result"
    }
   ],
   "source": [
    "cad[:2]"
   ]
  },
  {
   "cell_type": "code",
   "execution_count": 51,
   "id": "7000bd9e-3397-4a62-8a51-66aed9089076",
   "metadata": {},
   "outputs": [
    {
     "data": {
      "text/plain": [
       "'resource'"
      ]
     },
     "execution_count": 51,
     "metadata": {},
     "output_type": "execute_result"
    }
   ],
   "source": [
    "cad[2:]"
   ]
  },
  {
   "cell_type": "code",
   "execution_count": 52,
   "id": "8f71fe21-93ca-4c6f-a62d-20a1a8f6d0ee",
   "metadata": {},
   "outputs": [
    {
     "data": {
      "text/plain": [
       "'res'"
      ]
     },
     "execution_count": 52,
     "metadata": {},
     "output_type": "execute_result"
    }
   ],
   "source": [
    "cad[2:5]"
   ]
  },
  {
   "cell_type": "markdown",
   "id": "a40240bb-2a14-4560-8681-2a30bd236e6a",
   "metadata": {},
   "source": [
    "### Colecciones"
   ]
  },
  {
   "cell_type": "code",
   "execution_count": 54,
   "id": "9da83df2-4153-4578-820c-a03abd2b3c4b",
   "metadata": {},
   "outputs": [
    {
     "name": "stdout",
     "output_type": "stream",
     "text": [
      "<class 'str'>\n",
      "<class 'float'>\n",
      "<class 'int'>\n",
      "<class 'bool'>\n"
     ]
    }
   ],
   "source": [
    "# Tipos de datos\n",
    "print(type(\"text\"))\n",
    "print(type(5.0))\n",
    "print(type(5))\n",
    "print(type(True))"
   ]
  },
  {
   "cell_type": "code",
   "execution_count": 56,
   "id": "8679476f-70d2-4805-9598-49140d6b9a03",
   "metadata": {},
   "outputs": [
    {
     "name": "stdout",
     "output_type": "stream",
     "text": [
      "<class 'list'>\n",
      "<class 'tuple'>\n",
      "<class 'dict'>\n",
      "<class 'set'>\n"
     ]
    }
   ],
   "source": [
    "# Tipos de estructuras\n",
    "print(type([]))\n",
    "print(type(()))\n",
    "print(type({}))\n",
    "print(type(set()))"
   ]
  },
  {
   "cell_type": "code",
   "execution_count": 67,
   "id": "a11752e5-456b-429f-a82a-a881f774ed5d",
   "metadata": {},
   "outputs": [],
   "source": [
    "# Listas\n",
    "li = []\n",
    "other_li = [4, 5, 6, \"one\", True]"
   ]
  },
  {
   "cell_type": "code",
   "execution_count": 59,
   "id": "398bbcfb-a4c3-42c0-83da-801f3330337b",
   "metadata": {},
   "outputs": [],
   "source": [
    "cad = \"string\""
   ]
  },
  {
   "cell_type": "code",
   "execution_count": 60,
   "id": "ba753dea-ffad-4a88-a379-30ec9e7a556e",
   "metadata": {},
   "outputs": [
    {
     "data": {
      "text/plain": [
       "'String'"
      ]
     },
     "execution_count": 60,
     "metadata": {},
     "output_type": "execute_result"
    }
   ],
   "source": [
    "cad.capitalize()"
   ]
  },
  {
   "cell_type": "code",
   "execution_count": 61,
   "id": "4e46c419-ca90-4d1d-8cd7-ee434a054075",
   "metadata": {},
   "outputs": [
    {
     "data": {
      "text/plain": [
       "'STRING'"
      ]
     },
     "execution_count": 61,
     "metadata": {},
     "output_type": "execute_result"
    }
   ],
   "source": [
    "cad.upper()"
   ]
  },
  {
   "cell_type": "code",
   "execution_count": 62,
   "id": "02f519e2-7790-4ea9-bbbd-f4e7591b0609",
   "metadata": {},
   "outputs": [],
   "source": [
    "li.append(1)"
   ]
  },
  {
   "cell_type": "code",
   "execution_count": 63,
   "id": "4b2b3dc4-89ac-4146-b11c-757d062d9bf5",
   "metadata": {},
   "outputs": [
    {
     "data": {
      "text/plain": [
       "[1]"
      ]
     },
     "execution_count": 63,
     "metadata": {},
     "output_type": "execute_result"
    }
   ],
   "source": [
    "li"
   ]
  },
  {
   "cell_type": "code",
   "execution_count": 64,
   "id": "cc0d6487-7144-4e79-8093-9fae875812cb",
   "metadata": {},
   "outputs": [],
   "source": [
    "li.append(2)"
   ]
  },
  {
   "cell_type": "code",
   "execution_count": 65,
   "id": "bc772e87-18bf-4089-a1e5-fac369b30b8c",
   "metadata": {},
   "outputs": [
    {
     "data": {
      "text/plain": [
       "[1, 2]"
      ]
     },
     "execution_count": 65,
     "metadata": {},
     "output_type": "execute_result"
    }
   ],
   "source": [
    "li"
   ]
  },
  {
   "cell_type": "code",
   "execution_count": 66,
   "id": "3419f983-c05d-4df0-ba9d-4561d1a374fd",
   "metadata": {},
   "outputs": [
    {
     "data": {
      "text/plain": [
       "2"
      ]
     },
     "execution_count": 66,
     "metadata": {},
     "output_type": "execute_result"
    }
   ],
   "source": [
    "li.pop()"
   ]
  },
  {
   "cell_type": "code",
   "execution_count": 68,
   "id": "17d2d27e-e131-4d2e-95ba-61e223d5e514",
   "metadata": {},
   "outputs": [
    {
     "data": {
      "text/plain": [
       "'one'"
      ]
     },
     "execution_count": 68,
     "metadata": {},
     "output_type": "execute_result"
    }
   ],
   "source": [
    "other_li[3]"
   ]
  },
  {
   "cell_type": "code",
   "execution_count": 69,
   "id": "4832e12c-7919-4b0f-9b84-372c426bec90",
   "metadata": {},
   "outputs": [
    {
     "data": {
      "text/plain": [
       "[5, 6]"
      ]
     },
     "execution_count": 69,
     "metadata": {},
     "output_type": "execute_result"
    }
   ],
   "source": [
    "other_li[1:3]"
   ]
  },
  {
   "cell_type": "code",
   "execution_count": 70,
   "id": "5534820c-7543-4601-833c-b4e91bbb13b0",
   "metadata": {},
   "outputs": [
    {
     "data": {
      "text/plain": [
       "[4, 6, True]"
      ]
     },
     "execution_count": 70,
     "metadata": {},
     "output_type": "execute_result"
    }
   ],
   "source": [
    "other_li[::2]"
   ]
  },
  {
   "cell_type": "code",
   "execution_count": 71,
   "id": "dd958b86-5181-4f15-9e46-46a7851f7e19",
   "metadata": {},
   "outputs": [
    {
     "data": {
      "text/plain": [
       "[4, 5, 6, 'one']"
      ]
     },
     "execution_count": 71,
     "metadata": {},
     "output_type": "execute_result"
    }
   ],
   "source": [
    "other_li[:-1]"
   ]
  },
  {
   "cell_type": "code",
   "execution_count": 73,
   "id": "5b991f1f-0e2b-45bf-963b-e6c3b610c6d3",
   "metadata": {},
   "outputs": [],
   "source": [
    "rev = other_li.reverse()\n",
    "rev"
   ]
  },
  {
   "cell_type": "code",
   "execution_count": 74,
   "id": "7302dcc2-c5f7-477e-bcac-57fbd97f2271",
   "metadata": {},
   "outputs": [
    {
     "data": {
      "text/plain": [
       "[True, 'one', 6, 5, 4]"
      ]
     },
     "execution_count": 74,
     "metadata": {},
     "output_type": "execute_result"
    }
   ],
   "source": [
    "other_li[::-1]"
   ]
  },
  {
   "cell_type": "code",
   "execution_count": 75,
   "id": "a0442adf-e83f-4975-a672-63e1afa0d497",
   "metadata": {},
   "outputs": [
    {
     "data": {
      "text/plain": [
       "[True, 'one', 6, 5, 4]"
      ]
     },
     "execution_count": 75,
     "metadata": {},
     "output_type": "execute_result"
    }
   ],
   "source": [
    "copy = other_li[::-1]\n",
    "copy"
   ]
  },
  {
   "cell_type": "code",
   "execution_count": 76,
   "id": "34e2e66e-e288-4226-ba42-adc25774a168",
   "metadata": {},
   "outputs": [
    {
     "data": {
      "text/plain": [
       "False"
      ]
     },
     "execution_count": 76,
     "metadata": {},
     "output_type": "execute_result"
    }
   ],
   "source": [
    "False in other_li"
   ]
  },
  {
   "cell_type": "code",
   "execution_count": 77,
   "id": "3aee7068-e395-4c1a-ac0d-2ed477d3b919",
   "metadata": {},
   "outputs": [],
   "source": [
    "other_li[3] = \"two\""
   ]
  },
  {
   "cell_type": "code",
   "execution_count": 78,
   "id": "05e65f89-42e5-466a-94d6-2a547ddc00fe",
   "metadata": {},
   "outputs": [
    {
     "data": {
      "text/plain": [
       "[4, 5, 6, 'two', True]"
      ]
     },
     "execution_count": 78,
     "metadata": {},
     "output_type": "execute_result"
    }
   ],
   "source": [
    "other_li"
   ]
  },
  {
   "cell_type": "code",
   "execution_count": 80,
   "id": "bb72131e-5c25-4d21-aa14-0fe62ca9c4d4",
   "metadata": {},
   "outputs": [
    {
     "name": "stdout",
     "output_type": "stream",
     "text": [
      "1\n"
     ]
    }
   ],
   "source": [
    "#Tuples\n",
    "tup = (1,2,3)\n",
    "print(tup[0])\n",
    "#tup[0] = 3"
   ]
  },
  {
   "cell_type": "code",
   "execution_count": 81,
   "id": "d7104d2c-0629-4d61-a7d5-afc11b78f19f",
   "metadata": {},
   "outputs": [],
   "source": [
    "def main(x, y):\n",
    "    suma = x + y\n",
    "    resta = x - y\n",
    "    return (suma, resta)"
   ]
  },
  {
   "cell_type": "code",
   "execution_count": 82,
   "id": "b973b5cc-83f3-4651-885f-8e231912178f",
   "metadata": {},
   "outputs": [
    {
     "data": {
      "text/plain": [
       "(1, 2, 3, 1, 2, 3)"
      ]
     },
     "execution_count": 82,
     "metadata": {},
     "output_type": "execute_result"
    }
   ],
   "source": [
    "tupla_2 = tup + tup\n",
    "tupla_2"
   ]
  },
  {
   "cell_type": "code",
   "execution_count": 83,
   "id": "b83f9eb9-8765-432b-a826-f798abbf4bbf",
   "metadata": {},
   "outputs": [
    {
     "data": {
      "text/plain": [
       "(1, 2)"
      ]
     },
     "execution_count": 83,
     "metadata": {},
     "output_type": "execute_result"
    }
   ],
   "source": [
    "tupla_2[:2]"
   ]
  },
  {
   "cell_type": "code",
   "execution_count": 84,
   "id": "3e2a94e1-1728-4c3f-9f79-16639cf8b1cb",
   "metadata": {},
   "outputs": [
    {
     "data": {
      "text/plain": [
       "True"
      ]
     },
     "execution_count": 84,
     "metadata": {},
     "output_type": "execute_result"
    }
   ],
   "source": [
    "2 in tupla_2"
   ]
  },
  {
   "cell_type": "code",
   "execution_count": 85,
   "id": "25b78a9a-e591-4f34-8b4b-90f102f336b2",
   "metadata": {},
   "outputs": [
    {
     "data": {
      "text/plain": [
       "6"
      ]
     },
     "execution_count": 85,
     "metadata": {},
     "output_type": "execute_result"
    }
   ],
   "source": [
    "len(tupla_2)"
   ]
  },
  {
   "cell_type": "code",
   "execution_count": 86,
   "id": "250f9d38-595d-4959-a6f4-44c4f31c0c43",
   "metadata": {},
   "outputs": [
    {
     "data": {
      "text/plain": [
       "2"
      ]
     },
     "execution_count": 86,
     "metadata": {},
     "output_type": "execute_result"
    }
   ],
   "source": [
    "tupla_2.index(3)"
   ]
  },
  {
   "cell_type": "code",
   "execution_count": 88,
   "id": "895cb053-94e7-4555-9893-b56782c9b573",
   "metadata": {},
   "outputs": [],
   "source": [
    "# SETS\n",
    "empty_set = set()\n",
    "some_set = set([1,2,3,3,3,2,1,1])"
   ]
  },
  {
   "cell_type": "code",
   "execution_count": 89,
   "id": "60d50f60-e9f8-4b1f-ad6e-a72447b9430f",
   "metadata": {},
   "outputs": [
    {
     "data": {
      "text/plain": [
       "{1, 2, 3}"
      ]
     },
     "execution_count": 89,
     "metadata": {},
     "output_type": "execute_result"
    }
   ],
   "source": [
    "some_set"
   ]
  },
  {
   "cell_type": "code",
   "execution_count": 90,
   "id": "4d895658-ac34-4ae3-8864-b971a95a6a66",
   "metadata": {},
   "outputs": [
    {
     "data": {
      "text/plain": [
       "{1, 2, 3, 4}"
      ]
     },
     "execution_count": 90,
     "metadata": {},
     "output_type": "execute_result"
    }
   ],
   "source": [
    "filled_set = {1,1,1,2,2,2,4,4,4,3,3,3}\n",
    "filled_set"
   ]
  },
  {
   "cell_type": "code",
   "execution_count": 91,
   "id": "6fbf6492-a3a2-49aa-9655-8255d6be9206",
   "metadata": {},
   "outputs": [
    {
     "data": {
      "text/plain": [
       "{3, 4, 5, 6}"
      ]
     },
     "execution_count": 91,
     "metadata": {},
     "output_type": "execute_result"
    }
   ],
   "source": [
    "other_set = {3,4,5,6}\n",
    "other_set"
   ]
  },
  {
   "cell_type": "code",
   "execution_count": 92,
   "id": "715585ea-3d12-48d5-b61d-f9e3cbcd3387",
   "metadata": {},
   "outputs": [
    {
     "data": {
      "text/plain": [
       "{3, 4}"
      ]
     },
     "execution_count": 92,
     "metadata": {},
     "output_type": "execute_result"
    }
   ],
   "source": [
    "intersection_result = filled_set & other_set\n",
    "intersection_result"
   ]
  },
  {
   "cell_type": "code",
   "execution_count": 93,
   "id": "453afa9a-51e2-43b3-b57b-70e29e0bea25",
   "metadata": {},
   "outputs": [
    {
     "data": {
      "text/plain": [
       "{1, 2, 3, 4, 5, 6}"
      ]
     },
     "execution_count": 93,
     "metadata": {},
     "output_type": "execute_result"
    }
   ],
   "source": [
    "union_result = filled_set | other_set\n",
    "union_result"
   ]
  },
  {
   "cell_type": "code",
   "execution_count": 95,
   "id": "036ad1ec-fa94-4d20-91b1-7871017b91f1",
   "metadata": {},
   "outputs": [],
   "source": [
    "def main(x, y):\n",
    "    suma = x + y\n",
    "    des = f\"{x} + {y}\"\n",
    "    return suma, des"
   ]
  },
  {
   "cell_type": "code",
   "execution_count": 96,
   "id": "59701cae-0c9a-493b-9f71-d160522f8a62",
   "metadata": {},
   "outputs": [
    {
     "data": {
      "text/plain": [
       "(8, '5 + 3')"
      ]
     },
     "execution_count": 96,
     "metadata": {},
     "output_type": "execute_result"
    }
   ],
   "source": [
    "main(5, 3)"
   ]
  },
  {
   "cell_type": "code",
   "execution_count": 97,
   "id": "43c42012-cb35-45cc-afe7-ef801beb4bb5",
   "metadata": {},
   "outputs": [],
   "source": [
    "# Diccionarios\n",
    "empty_dicc = {}\n",
    "filled_dic = {\"one\": 1, \n",
    "              \"two\": \"dos\", \n",
    "              \"three\": True, \n",
    "              \"four\": [6,7]}"
   ]
  },
  {
   "cell_type": "code",
   "execution_count": 98,
   "id": "23b1e69a-2369-4f1e-bc70-46997f96215b",
   "metadata": {},
   "outputs": [
    {
     "data": {
      "text/plain": [
       "dict_keys(['one', 'two', 'three', 'four'])"
      ]
     },
     "execution_count": 98,
     "metadata": {},
     "output_type": "execute_result"
    }
   ],
   "source": [
    "filled_dic.keys()"
   ]
  },
  {
   "cell_type": "code",
   "execution_count": 99,
   "id": "e503f232-45a2-44c6-b9a8-ff31709bc76a",
   "metadata": {},
   "outputs": [
    {
     "data": {
      "text/plain": [
       "dict_values([1, 'dos', True, [6, 7]])"
      ]
     },
     "execution_count": 99,
     "metadata": {},
     "output_type": "execute_result"
    }
   ],
   "source": [
    "filled_dic.values()"
   ]
  },
  {
   "cell_type": "code",
   "execution_count": 100,
   "id": "af38cc87-7bfd-4d04-a693-470b51104c84",
   "metadata": {},
   "outputs": [
    {
     "data": {
      "text/plain": [
       "dict_items([('one', 1), ('two', 'dos'), ('three', True), ('four', [6, 7])])"
      ]
     },
     "execution_count": 100,
     "metadata": {},
     "output_type": "execute_result"
    }
   ],
   "source": [
    "filled_dic.items()"
   ]
  },
  {
   "cell_type": "code",
   "execution_count": 101,
   "id": "da14676d-80f8-405f-ac04-53f3be0bfc1b",
   "metadata": {},
   "outputs": [
    {
     "data": {
      "text/plain": [
       "'dos'"
      ]
     },
     "execution_count": 101,
     "metadata": {},
     "output_type": "execute_result"
    }
   ],
   "source": [
    "filled_dic[\"two\"]"
   ]
  },
  {
   "cell_type": "code",
   "execution_count": 102,
   "id": "ffcf7ea8-8006-479a-86fe-f0010eff98bb",
   "metadata": {},
   "outputs": [],
   "source": [
    "filled_dic[\"three\"] = False"
   ]
  },
  {
   "cell_type": "code",
   "execution_count": 103,
   "id": "915c89e3-293a-4d68-93d9-6f4efb4ab0cb",
   "metadata": {},
   "outputs": [
    {
     "data": {
      "text/plain": [
       "{'one': 1, 'two': 'dos', 'three': False, 'four': [6, 7]}"
      ]
     },
     "execution_count": 103,
     "metadata": {},
     "output_type": "execute_result"
    }
   ],
   "source": [
    "filled_dic"
   ]
  },
  {
   "cell_type": "markdown",
   "id": "836f6bcb-08ab-4c2f-ae19-c63734cb97e1",
   "metadata": {},
   "source": [
    "# 5.Control Flujo"
   ]
  },
  {
   "cell_type": "code",
   "execution_count": 107,
   "id": "e2c0ab7a-e225-4ac5-b8f7-b8a06d8f6055",
   "metadata": {},
   "outputs": [
    {
     "name": "stdout",
     "output_type": "stream",
     "text": [
      "some_var es menor que 10\n"
     ]
    }
   ],
   "source": [
    "some_var = 5\n",
    "\n",
    "if some_var > 10:\n",
    "    print(\"some_var es totalmente mayor a 10\")\n",
    "elif some_var < 10:\n",
    "    print(\"some_var es menor que 10\")\n",
    "else:\n",
    "    print(\"some_var es efectivamente 10.\")"
   ]
  },
  {
   "cell_type": "markdown",
   "id": "d146e057-dafd-428c-a541-509785f4a3f5",
   "metadata": {},
   "source": [
    "# LOOPS"
   ]
  },
  {
   "cell_type": "code",
   "execution_count": 108,
   "id": "2d661904-3cc0-4c85-9c30-02cab293c39b",
   "metadata": {},
   "outputs": [
    {
     "name": "stdout",
     "output_type": "stream",
     "text": [
      "dog\n",
      "cat\n",
      "mouse\n"
     ]
    }
   ],
   "source": [
    "animales = [\"dog\",\"cat\",\"mouse\"]\n",
    "\n",
    "for animal in animales:\n",
    "    print(f\"{animal}\")"
   ]
  },
  {
   "cell_type": "code",
   "execution_count": 109,
   "id": "b5f253ab-05ce-4951-ac84-5091f316b8fb",
   "metadata": {},
   "outputs": [
    {
     "name": "stdout",
     "output_type": "stream",
     "text": [
      "0\n",
      "1\n",
      "2\n",
      "3\n"
     ]
    }
   ],
   "source": [
    "x = 0\n",
    "\n",
    "while x < 4:\n",
    "    print(x)\n",
    "    x = x + 1"
   ]
  },
  {
   "cell_type": "markdown",
   "id": "b8e69294-eea1-40b2-86cf-06e458495de4",
   "metadata": {},
   "source": [
    "* IF/ELSE - programa que imprime nros de 1 a 50. Si es multiplo de 3 imprimir FIZZ. Si es multiplo de 5 imprimir BUZZ.\n",
    "* Si es multiplo de ambos FIZZBUZZ. En el resto de casos solo el numero."
   ]
  },
  {
   "cell_type": "code",
   "execution_count": 110,
   "id": "c43c95cb-6f1a-4b13-a70a-861f85020ddc",
   "metadata": {},
   "outputs": [
    {
     "name": "stdout",
     "output_type": "stream",
     "text": [
      "1\n",
      "2\n",
      "FIZZ\n",
      "4\n",
      "BUZZ\n",
      "FIZZ\n",
      "7\n",
      "8\n",
      "FIZZ\n",
      "BUZZ\n",
      "11\n",
      "FIZZ\n",
      "13\n",
      "14\n",
      "FIZZBUZZ\n",
      "16\n",
      "17\n",
      "FIZZ\n",
      "19\n",
      "BUZZ\n",
      "FIZZ\n",
      "22\n",
      "23\n",
      "FIZZ\n",
      "BUZZ\n",
      "26\n",
      "FIZZ\n",
      "28\n",
      "29\n",
      "FIZZBUZZ\n",
      "31\n",
      "32\n",
      "FIZZ\n",
      "34\n",
      "BUZZ\n",
      "FIZZ\n",
      "37\n",
      "38\n",
      "FIZZ\n",
      "BUZZ\n",
      "41\n",
      "FIZZ\n",
      "43\n",
      "44\n",
      "FIZZBUZZ\n",
      "46\n",
      "47\n",
      "FIZZ\n",
      "49\n",
      "BUZZ\n"
     ]
    }
   ],
   "source": [
    "for i in range(1, 51):\n",
    "    if i % 3 == 0 and i % 5 == 0:\n",
    "        print('FIZZBUZZ')\n",
    "    elif i % 3 == 0:\n",
    "        print('FIZZ')\n",
    "    elif i % 5 == 0:\n",
    "        print('BUZZ')\n",
    "    else:\n",
    "        print(i)"
   ]
  },
  {
   "cell_type": "code",
   "execution_count": 111,
   "id": "0b9eb357-a235-4eac-b6d6-cd36d2f61f55",
   "metadata": {},
   "outputs": [],
   "source": [
    "def suma(x, y):\n",
    "    result = x + y\n",
    "    return result"
   ]
  },
  {
   "cell_type": "code",
   "execution_count": 112,
   "id": "6b446f10-c4a9-4db2-b506-f7496ae1458e",
   "metadata": {},
   "outputs": [
    {
     "data": {
      "text/plain": [
       "10"
      ]
     },
     "execution_count": 112,
     "metadata": {},
     "output_type": "execute_result"
    }
   ],
   "source": [
    "x = suma(5, 5)\n",
    "x"
   ]
  },
  {
   "cell_type": "code",
   "execution_count": 113,
   "id": "ef83febf-6d23-49e9-a6b6-4ea68597f6ce",
   "metadata": {},
   "outputs": [],
   "source": [
    "def concat(x, y):\n",
    "    result = x + y\n",
    "    return result"
   ]
  },
  {
   "cell_type": "code",
   "execution_count": 114,
   "id": "6d503113-de67-4f04-9c49-437d4bcb2342",
   "metadata": {},
   "outputs": [
    {
     "data": {
      "text/plain": [
       "'SurpriseShrek'"
      ]
     },
     "execution_count": 114,
     "metadata": {},
     "output_type": "execute_result"
    }
   ],
   "source": [
    "x1 = concat(\"Surprise\", \"Shrek\")\n",
    "x1"
   ]
  },
  {
   "cell_type": "code",
   "execution_count": 116,
   "id": "303dc4fa-70dc-4663-acbf-db98e2ae8104",
   "metadata": {},
   "outputs": [],
   "source": [
    "def add(x: int, y: int) -> int:\n",
    "    \"\"\"\n",
    "    Suma de dos numeros\n",
    "    \"\"\"\n",
    "    print(\"x is {0} and y is {1}\".format(x, y))\n",
    "    return x + y"
   ]
  },
  {
   "cell_type": "code",
   "execution_count": 117,
   "id": "3a3f78c3-d13c-40ee-9e49-d7d7807ab8e2",
   "metadata": {},
   "outputs": [
    {
     "name": "stdout",
     "output_type": "stream",
     "text": [
      "x is 3 and y is 5\n"
     ]
    },
    {
     "data": {
      "text/plain": [
       "8"
      ]
     },
     "execution_count": 117,
     "metadata": {},
     "output_type": "execute_result"
    }
   ],
   "source": [
    "add(3, 5)"
   ]
  },
  {
   "cell_type": "code",
   "execution_count": 118,
   "id": "90d3012c-17ff-49f4-ba12-fe2e3859301f",
   "metadata": {},
   "outputs": [],
   "source": [
    "def concat(x: str, y: str) -> str:\n",
    "    \"\"\"\n",
    "    add: Concatenar dos string\n",
    "    \"\"\"\n",
    "    result = x.capitalize() + y.upper()\n",
    "    return result"
   ]
  },
  {
   "cell_type": "code",
   "execution_count": 119,
   "id": "b05058c1-f12a-421f-b706-92381af24ba8",
   "metadata": {},
   "outputs": [
    {
     "data": {
      "text/plain": [
       "'KakashiRANGER'"
      ]
     },
     "execution_count": 119,
     "metadata": {},
     "output_type": "execute_result"
    }
   ],
   "source": [
    "concat(\"Kakashi\", \"ranger\")"
   ]
  },
  {
   "cell_type": "code",
   "execution_count": 125,
   "id": "b28cea65-2be6-447f-86ea-9bc6dbd46574",
   "metadata": {},
   "outputs": [
    {
     "ename": "SyntaxError",
     "evalue": "invalid syntax (4047079163.py, line 5)",
     "output_type": "error",
     "traceback": [
      "\u001b[1;36m  Cell \u001b[1;32mIn[125], line 5\u001b[1;36m\u001b[0m\n\u001b[1;33m    result = x. + y.\u001b[0m\n\u001b[1;37m                ^\u001b[0m\n\u001b[1;31mSyntaxError\u001b[0m\u001b[1;31m:\u001b[0m invalid syntax\n"
     ]
    }
   ],
   "source": [
    "def concate(x: list, y: dict) -> str:\n",
    "    \"\"\"\n",
    "    concatenar 2 strings\n",
    "    \"\"\"\n",
    "    result = x. + y.\n",
    "    return result"
   ]
  },
  {
   "cell_type": "markdown",
   "id": "acf6167e-3b31-487e-b747-187f6edfd3e7",
   "metadata": {},
   "source": [
    "* *args **kwargs"
   ]
  },
  {
   "cell_type": "code",
   "execution_count": 126,
   "id": "4519f301-e015-4e38-b9bd-30412bc2641b",
   "metadata": {},
   "outputs": [],
   "source": [
    "def varios_args(*args):\n",
    "    return args"
   ]
  },
  {
   "cell_type": "code",
   "execution_count": 127,
   "id": "965239ed-a6e5-43e2-b591-da88b7ae4c58",
   "metadata": {},
   "outputs": [
    {
     "data": {
      "text/plain": [
       "(1, 2, 3, 4)"
      ]
     },
     "execution_count": 127,
     "metadata": {},
     "output_type": "execute_result"
    }
   ],
   "source": [
    "varios_args(1, 2, 3, 4)"
   ]
  },
  {
   "cell_type": "code",
   "execution_count": 128,
   "id": "34961c3e-547d-4f6c-9ee1-1baf0fe70c5b",
   "metadata": {},
   "outputs": [],
   "source": [
    "def varios_kwargs(**kwargs):\n",
    "    return kwargs"
   ]
  },
  {
   "cell_type": "code",
   "execution_count": 129,
   "id": "69fdb6a4-745b-4001-a28f-94569a5cf014",
   "metadata": {},
   "outputs": [
    {
     "data": {
      "text/plain": [
       "{'big': 'grande', 'one': 'uno'}"
      ]
     },
     "execution_count": 129,
     "metadata": {},
     "output_type": "execute_result"
    }
   ],
   "source": [
    "varios_kwargs(big=\"grande\", one=\"uno\")"
   ]
  },
  {
   "cell_type": "code",
   "execution_count": 131,
   "id": "078e8a6c-653f-4535-82e3-c14abbf4fda0",
   "metadata": {},
   "outputs": [],
   "source": [
    "x = 5\n",
    "\n",
    "def set_x(num):\n",
    "    x = num\n",
    "    print(\"Dentro del set_x:\", x)\n",
    "\n",
    "def set_global_x(num):\n",
    "    global x\n",
    "    print(\"Antes de set_global_x:\", x)\n",
    "    x = num\n",
    "    print(\"Despues de set_global_x:\", x)"
   ]
  },
  {
   "cell_type": "code",
   "execution_count": 132,
   "id": "a3cae06a-c512-4989-bcd5-d7cdf97afe86",
   "metadata": {},
   "outputs": [
    {
     "name": "stdout",
     "output_type": "stream",
     "text": [
      "Valor de 'x' antes de las funciones: 5\n"
     ]
    }
   ],
   "source": [
    "print(\"Valor de 'x' antes de las funciones:\", x)"
   ]
  },
  {
   "cell_type": "code",
   "execution_count": 133,
   "id": "3657ba7e-ef9a-4032-b32a-ffff75a99e52",
   "metadata": {},
   "outputs": [
    {
     "name": "stdout",
     "output_type": "stream",
     "text": [
      "Dentro del set_x: 43\n"
     ]
    }
   ],
   "source": [
    "set_x(43)"
   ]
  },
  {
   "cell_type": "code",
   "execution_count": 134,
   "id": "f1673490-15cc-4927-a66c-acb5f3267954",
   "metadata": {},
   "outputs": [
    {
     "name": "stdout",
     "output_type": "stream",
     "text": [
      "Antes de set_global_x: 5\n",
      "Despues de set_global_x: 6\n"
     ]
    }
   ],
   "source": [
    "set_global_x(6)"
   ]
  },
  {
   "cell_type": "code",
   "execution_count": 135,
   "id": "99fff1d5-766f-4cf4-a38b-636d36007a0c",
   "metadata": {},
   "outputs": [
    {
     "name": "stdout",
     "output_type": "stream",
     "text": [
      "Valor de 'x' despues de las funciones: 6\n"
     ]
    }
   ],
   "source": [
    "print(\"Valor de 'x' despues de las funciones:\", x)"
   ]
  },
  {
   "cell_type": "code",
   "execution_count": null,
   "id": "6ca3d932-2219-4213-934f-f9f27eb01f58",
   "metadata": {},
   "outputs": [],
   "source": []
  }
 ],
 "metadata": {
  "kernelspec": {
   "display_name": "Python 3 (ipykernel)",
   "language": "python",
   "name": "python3"
  },
  "language_info": {
   "codemirror_mode": {
    "name": "ipython",
    "version": 3
   },
   "file_extension": ".py",
   "mimetype": "text/x-python",
   "name": "python",
   "nbconvert_exporter": "python",
   "pygments_lexer": "ipython3",
   "version": "3.12.0"
  }
 },
 "nbformat": 4,
 "nbformat_minor": 5
}
